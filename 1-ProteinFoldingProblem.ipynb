{
 "cells": [
  {
   "cell_type": "markdown",
   "id": "bb8d0570",
   "metadata": {},
   "source": [
    "<table width=\"100%\"><tr><td style=\"color:#bbbbbb;background-color:#ffffff;font-size:11px;font-style:italic;text-align:right;\"> macros </td></tr></table>\n",
    "$ \\newcommand{\\bra}[1]{\\langle #1|} $\n",
    "$ \\newcommand{\\ket}[1]{|#1\\rangle} $\n"
   ]
  },
  {
   "cell_type": "markdown",
   "id": "be335b3f",
   "metadata": {},
   "source": [
    "# Protein Folding Problem"
   ]
  },
  {
   "cell_type": "markdown",
   "id": "fae7d124",
   "metadata": {},
   "source": [
    "<b>Proteins</b> are biomacromolecules consisting of amino acid residues. They have a main chain and also can have some sub chains. We can show a protein by a sequence of it's amino acids. <br>\n",
    "<img src='resources/Protein_primary_structure.svg' width=60% align=\"center\">\n",
    "<a href=\"https://en.wikipedia.org/wiki/Amino_acid\">Image Ref: Wikipedia</a>\n"
   ]
  },
  {
   "cell_type": "markdown",
   "id": "e640a3c6",
   "metadata": {},
   "source": [
    "<b>Amino acids</b> are composed of  amino(−NH<sub>3</sub><sup>+</sup>), carboxylate (−COOH), and R group (−R). <br>\n",
    "There are only 20 natural amino acids. They can be shown by 3-letter symbols or 1-letter symbol.<br>\n",
    "<table class=\"center\" >\n",
    "  <tr>\n",
    "      <th>#</th>\n",
    "    <th>Amini acid</th>\n",
    "    <th>3-letter symbols</th>\n",
    "    <th>1-letter symbol</th>\n",
    "  </tr>\n",
    "  <tr>\n",
    "      <td >1</td>\n",
    "    <td >Alanine</td>\n",
    "    <td>Ala</td>\n",
    "    <td>A</td>\n",
    "  </tr>\n",
    "    <tr>\n",
    "        <td>2</td>\n",
    "    <td>Arginine</td>\n",
    "    <td>Arg</td>\n",
    "    <td>R</td>\n",
    "  </tr>\n",
    "    <tr>\n",
    "        <td>3</td>\n",
    "    <td>Asparagine</td>\n",
    "    <td>Asn</td>\n",
    "    <td>N</td>\n",
    "  </tr>\n",
    "    <tr>\n",
    "        <td>4</td>\n",
    "    <td>Aspartate</td>\n",
    "    <td>Asp</td>\n",
    "    <td>D</td>\n",
    "  </tr>\n",
    "    <tr>\n",
    "        <td>5</td>\n",
    "    <td>Cysteine</td>\n",
    "    <td>Cys</td>\n",
    "    <td>C</td>\n",
    "  </tr>\n",
    "    <tr>\n",
    "        <td>6</td>\n",
    "    <td>Glutamine</td>\n",
    "    <td>Gln</td>\n",
    "    <td>Q</td>\n",
    "  </tr>\n",
    "    <tr>\n",
    "        <td>7</td>\n",
    "    <td>Glutamate</td>\n",
    "    <td>Glu</td>\n",
    "    <td>E</td>\n",
    "  </tr>\n",
    "    <tr>\n",
    "        <td>8</td>\n",
    "    <td>Glycine</td>\n",
    "    <td>Gly</td>\n",
    "    <td>G</td>\n",
    "  </tr>\n",
    "    <tr>\n",
    "        <td>9</td>\n",
    "    <td>Histidine</td>\n",
    "    <td>His</td>\n",
    "    <td>H</td>\n",
    "  </tr>\n",
    "    <tr>\n",
    "        <td>10</td>\n",
    "    <td>Isoleucine</td>\n",
    "    <td>Ile</td>\n",
    "    <td>I</td>\n",
    "  </tr>\n",
    "    <tr>\n",
    "        <td>11</td>\n",
    "    <td>Leucine</td>\n",
    "    <td>Leu</td>\n",
    "    <td>L</td>\n",
    "  </tr>\n",
    "    <tr>\n",
    "        <td>12</td>\n",
    "    <td>Lysine</td>\n",
    "    <td>Lys</td>\n",
    "    <td>K</td>\n",
    "  </tr>\n",
    "    <tr>\n",
    "        <td>13</td>\n",
    "    <td>Methionine</td>\n",
    "    <td>Met</td>\n",
    "    <td>M</td>\n",
    "  </tr>\n",
    "    <tr>\n",
    "        <td>14</td>\n",
    "    <td>Phenylalanine</td>\n",
    "    <td>Phe</td>\n",
    "    <td>F</td>\n",
    "  </tr>\n",
    "    <tr>\n",
    "        <td>15</td>\n",
    "    <td>Proline</td>\n",
    "    <td>Pro</td>\n",
    "    <td>P</td>\n",
    "  </tr>\n",
    "    <tr>\n",
    "        <td>16</td>\n",
    "    <td>Serine</td>\n",
    "    <td>Ser</td>\n",
    "    <td>S</td>\n",
    "  </tr>\n",
    "    <tr>\n",
    "        <td>17</td>\n",
    "    <td>Threonine</td>\n",
    "    <td>Thr</td>\n",
    "    <td>T</td>\n",
    "  </tr>\n",
    "    <tr>\n",
    "        <td>18</td>\n",
    "    <td>Tryptophan</td>\n",
    "    <td>Trp</td>\n",
    "    <td>W</td>\n",
    "  </tr>\n",
    "    <tr>\n",
    "        <td>19</td>\n",
    "    <td>Tyrosine</td>\n",
    "    <td>Tyr</td>\n",
    "    <td>Y</td>\n",
    "  </tr>\n",
    "    <tr>\n",
    "        <td>20</td>\n",
    "    <td>Valine</td>\n",
    "    <td>Val</td>\n",
    "    <td>V</td>\n",
    "  </tr>\n",
    "</table>\n",
    "<a href=\"https://en.wikipedia.org/wiki/Amino_acid\">Table Ref: Wikipedia</a>"
   ]
  },
  {
   "cell_type": "markdown",
   "id": "6b775f08",
   "metadata": {},
   "source": [
    "<b>Peptides</b> are linear and short chain of amino acid residue. Amino acids linked by <b>peptide bonds</b>.\n",
    "<img src='resources/Peptidformationball.svg' width=50% align=\"center\">\n",
    "<a href=\"https://en.wikipedia.org/wiki/Peptide_bond\">Image Ref: Wikipedia</a>\n"
   ]
  },
  {
   "cell_type": "markdown",
   "id": "d191b2cb",
   "metadata": {},
   "source": [
    "The biological process that causes a protein to fold into its three-dimensional structure is called <b>Protein Folding Problem</b>. This structure can determine the protein's activity. The protein folding problem is finding the lowest energy conformations of a protein given its primary sequence of amino acids.\n",
    "<img src='resources/Protein_folding.png' width=50% align=\"center\">\n",
    "<a href=\"https://en.wikipedia.org/wiki/Protein_folding\">Image Ref: Wikipedia</a>"
   ]
  },
  {
   "cell_type": "markdown",
   "id": "4962efcb",
   "metadata": {},
   "source": [
    "As it is a large-scale problem, scientists suggested <b>Lattice Models</b>. Lattice models represent protein chains as self-avoiding walks (SAW) on a 2D or 3D grid. \n",
    "<img src='resources/Lattice_2D.png' width=50% align=\"center\">\n",
    "[Image Ref: Ref[1]](#References)\n",
    "\n",
    "<img src='resources/Lattice_3D.png' width=50% align=\"center\"> <br>\n",
    "[Image Ref: Ref[2]](#References)"
   ]
  },
  {
   "cell_type": "markdown",
   "id": "0ae8d360",
   "metadata": {},
   "source": [
    "To simplify the problem, they use the <b>coarse-grained</b> representation of a protein, so each amino acid can be placed in a grid intersection.\n",
    "\n",
    "<img src='resources/Coarse-grained.png' width=50% align=\"center\"> <br>\n",
    "[Image Ref: Ref[3]](#References)"
   ]
  },
  {
   "cell_type": "markdown",
   "id": "d619ebc0",
   "metadata": {},
   "source": [
    "## Interaction Models\n",
    "There are several energy interaction models, but only two of them were used in quantum computing. The first lattice model (also the first proposed lattice model) is the <b>Hydrophobic-Polar model (HP)</b> [[4]](#References). This model only considers two classes of amino acids, hydrophobic (H) and polar (P). "
   ]
  },
  {
   "cell_type": "code",
   "execution_count": 1,
   "id": "f1882d4f",
   "metadata": {},
   "outputs": [],
   "source": [
    "from pathlib import Path\n",
    "import os\n",
    "import numpy as np\n",
    "from typing import Tuple, List\n",
    "import seaborn\n",
    "import pandas as pd\n",
    "\n",
    "def path_of_file(a:str):\n",
    "    path1 = Path().parent.absolute()\n",
    "    path2 = Path(\"resources\")\n",
    "    path1 = os.path.join(path1, path2)\n",
    "    filename = a +\"_matrix.txt\"\n",
    "    path = os.path.normpath(os.path.join(path1, filename))\n",
    "    return path\n",
    "\n",
    "def load_matrix(a) -> Tuple[np.ndarray, List[str]]:\n",
    "    path = path_of_file(a)\n",
    "    matrix = np.loadtxt(fname=path, dtype=str)\n",
    "    matrix2 = np.zeros((np.shape(matrix)[0], np.shape(matrix)[1]))\n",
    "    for row in range(1, np.shape(matrix)[0]):\n",
    "        for col in range(row - 1, np.shape(matrix)[1]):\n",
    "            matrix2[row, col] = float(matrix[row, col])\n",
    "    matrix2 = matrix2[1:,]\n",
    "    amino_acids = list(matrix[0, :])\n",
    "    return matrix2, amino_acids\n",
    "\n",
    "def show_matrix(a:str, size:int):\n",
    "    matrix, cols = load_matrix(a)\n",
    "    df = pd.DataFrame(data=matrix, columns=cols)\n",
    "    seaborn.heatmap(df, annot=True, cmap=\"PRGn\", annot_kws={\"size\":size})"
   ]
  },
  {
   "cell_type": "code",
   "execution_count": 2,
   "id": "32d59e8f",
   "metadata": {},
   "outputs": [
    {
     "data": {
      "image/png": "[encoded data removed]",
      "text/plain": [
       "<Figure size 432x288 with 2 Axes>"
      ]
     },
     "metadata": {
      "needs_background": "light"
     },
     "output_type": "display_data"
    }
   ],
   "source": [
    "show_matrix('hp', 15)"
   ]
  },
  {
   "cell_type": "markdown",
   "id": "4ae6c1fc",
   "metadata": {},
   "source": [
    "The second one is the <b>Miyazawa-Jernigan model</b> [[5]](#References) which uses all twenty natural amino acids."
   ]
  },
  {
   "cell_type": "code",
   "execution_count": 3,
   "id": "9f8508d5",
   "metadata": {},
   "outputs": [
    {
     "data": {
      "image/png": "[encoded data removed]",
      "text/plain": [
       "<Figure size 432x288 with 2 Axes>"
      ]
     },
     "metadata": {
      "needs_background": "light"
     },
     "output_type": "display_data"
    }
   ],
   "source": [
    "show_matrix('mj', 7)"
   ]
  },
  {
   "cell_type": "markdown",
   "id": "ac6c5d1b",
   "metadata": {},
   "source": [
    "## Algorithms\n",
    "There are some Quantum Algorithms to solve this problem such as <b>Quantum Annealing (QA), Quantum Approximate Optimization Algorithm (QAOA)</b>, and <b>Variational Quantum Eigensolver (VQE)</b>. Here we focus on VQE. <br><br>\n",
    "VQE is an algorithm from <b>Variational Quantum Algorithms (VQA)</b>. They are hybrid classical-quantum algorithms. There is a quantum circuit made by parametrized gates that is called <b>ansatz</b>. In each iteration, the prepared state is measured by applying the measurement  gates, then the parameters are optimized in the classical computer for the next iteration. This process is performed until the output of the quantum circuit converges."
   ]
  },
  {
   "cell_type": "markdown",
   "id": "d66a2cde",
   "metadata": {},
   "source": [
    "VQE algorithm can solve <b>Shrodinger equation</b> (find the eigenvalues and eigenvectors of a matrix):\n",
    "\n",
    "$H\\ket{\\psi(\\overrightarrow{\\theta})} = E\\ket{\\psi(\\overrightarrow{\\theta})}$\n",
    "<br>\n",
    "where:\n",
    "<ul>\n",
    "    <li>$E$ is energy / a number</li>\n",
    "    <li>$E_{0}$ is the lowest energy / eigenvalue of H / a number</li>\n",
    "    <li>$ \\psi(\\overrightarrow{\\theta})$ is the eigenstate of H / a vector</li>\n",
    "    <li>H is the Hamiltonian / an operator / a matrix</li>\n",
    "    <li>$\\overrightarrow{\\theta}$ is a vector of independent parameters and $\\overrightarrow{\\theta}=$ {($\\theta_{1},...,\\theta_{n} $)}$^{T}$.</li>    \n",
    "</ul>\n",
    "\n",
    "The lowest answer for this equation is the ground state ($E_{0}$).\n",
    "\n",
    "$ E_{0} \\leq \\bra{\\psi(\\overrightarrow{\\theta})}H\\ket{\\psi(\\overrightarrow{\\theta})} $ <br>\n"
   ]
  },
  {
   "cell_type": "markdown",
   "id": "97f16feb",
   "metadata": {},
   "source": [
    "## Qiskit Nature\n",
    "In this project, we use the Qiskit nature package [[7]](#References) protein folding document, which is written based on Robert et al's paper [[8]](#References). There are some kinds of lattices (cubic, planar, etc), they used <b>tetrahedral lattice</b>. <br><br><br>\n",
    "For encoding the problem in a quantum circuit, they used two kinds of qubits:\n",
    "<ol>\n",
    "  <li>$q_{cf}$: Configuration qubits that are used for configurations and the relative position of the amino acids</li>\n",
    "  <li>$q_{in}$: Interaction qubits that encode interactions between the amino acids</li>\n",
    "</ol>\n",
    "\n",
    "In this picture, you can see how to encode an interaction between two amino acids in the 4 qubits ($q_{in}$).\n",
    "\n",
    "\n",
    "<img src='resources/tetrahedral.png' width=50% align=\"center\"> <br>\n",
    "[Image Ref: Ref[8]](#References)"
   ]
  },
  {
   "cell_type": "markdown",
   "id": "7a9494ea",
   "metadata": {},
   "source": [
    "Therefore, the Hamiltonian of the system is:<br>\n",
    "$$ H = H_{gc}(q_{cf}) + H_{ch}(q_{cf}) + H_{in}(q_{cf},q_{in})$$\n",
    "where:\n",
    "<ul>\n",
    "  <li>$H_{gc}$ is the geometrical constraint term</li>\n",
    "  <li>$H_{ch}$ is the chirality constraint</li>\n",
    "  <li>$H_{in}$ is the interaction energy terms of the system.</li>\n",
    "</ul>\n",
    "\n",
    "The protein consists of the main chain of amino acids, and each amino acid can be coded by a <b>one-letter code</b>, so we can show each protein's main chain by a string of characters. Also, the protein can include some side chains that can be connected to each amino acid in the main chain.\n",
    "\n",
    "For contact energy (interaction) between amino acids, they used Miyazawa-Jernigan model. Since our goal is to find the 3D structure of an special protein after folding, we use Hydrophibic-Polar model which is simpler, but it is not suitable for finding the lowest energy."
   ]
  },
  {
   "cell_type": "markdown",
   "id": "b79c0da3",
   "metadata": {},
   "source": [
    "## References\n",
    "[1] Perdomo, A., Truncik, C., Tubert-Brohman, I., Rose, G., & Aspuru-Guzik, A. (2008). \"Construction of model Hamiltonians for adiabatic quantum computation and its application to finding low-energy conformations of lattice protein models\". Physical Review A, 78(1), 012320.\n",
    "\n",
    "[2] Fingerhuth, M., & Babej, T. (2018). \"A quantum alternating operator ansatz with hard and soft constraints for lattice protein folding\".\n",
    "\n",
    "[3] Kmiecik, S., Gront, D., Kolinski, M., Wieteska, L., Dawid, A. E., & Kolinski, A. (2016). Coarse-grained protein models and their applications. Chemical reviews, 116(14), 7898-7936.\n",
    "\n",
    "[4] Dill KA (1985). \"Theory for the folding and stability of globular proteins\". Biochemistry. 24 (6): 1501–9.\n",
    "\n",
    "[5] Miyazawa, S., & Jernigan, R. L. (1985). \"Estimation of effective interresidue contact energies from protein crystal structures: quasi-chemical approximation\". Macromolecules, 18(3), 534-552.\n",
    "\n",
    "[6] Berger B, Leighton T (1998). \"Protein folding in the hydrophobic-hydrophilic (HP) model is NP-complete\". Journal of Computational Biology. 5 (1): 27–40.\n",
    "\n",
    "[7] Aleksandrowicz, G., and Alexander T., Amy, M., ... & Mantas. (2021). \"Qiskit: An Open-source Framework for Quantum Computing\".\n",
    "\n",
    "[8] Robert, A., Barkoutsos, P. K., Woerner, S., & Tavernelli, I. (2021). Resource-efficient quantum algorithm for protein folding. npj Quantum Information, 7(1), 1-5.\n"
   ]
  }
 ],
 "metadata": {
  "kernelspec": {
   "display_name": "Python 3 (ipykernel)",
   "language": "python",
   "name": "python3"
  },
  "language_info": {
   "codemirror_mode": {
    "name": "ipython",
    "version": 3
   },
   "file_extension": ".py",
   "mimetype": "text/x-python",
   "name": "python",
   "nbconvert_exporter": "python",
   "pygments_lexer": "ipython3",
   "version": "3.10.4"
  }
 },
 "nbformat": 4,
 "nbformat_minor": 5
}
